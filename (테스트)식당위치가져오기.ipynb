{
 "cells": [
  {
   "cell_type": "code",
   "execution_count": 7,
   "metadata": {
    "collapsed": true
   },
   "outputs": [],
   "source": [
    "import pandas as pd\n",
    "import numpy as np\n",
    "from datetime import datetime"
   ]
  },
  {
   "cell_type": "code",
   "execution_count": 8,
   "metadata": {
    "collapsed": true
   },
   "outputs": [],
   "source": [
    "의장 = pd.read_excel(r'C:\\Users\\user\\Desktop\\정공센_업추분석\\0.마포구 기초의회장단 업무추진비(정리).xlsx',sheetname='의장',index_col=\"No\")"
   ]
  },
  {
   "cell_type": "code",
   "execution_count": 9,
   "metadata": {},
   "outputs": [
    {
     "data": {
      "text/html": [
       "<div>\n",
       "<style>\n",
       "    .dataframe thead tr:only-child th {\n",
       "        text-align: right;\n",
       "    }\n",
       "\n",
       "    .dataframe thead th {\n",
       "        text-align: left;\n",
       "    }\n",
       "\n",
       "    .dataframe tbody tr th {\n",
       "        vertical-align: top;\n",
       "    }\n",
       "</style>\n",
       "<table border=\"1\" class=\"dataframe\">\n",
       "  <thead>\n",
       "    <tr style=\"text-align: right;\">\n",
       "      <th></th>\n",
       "      <th>부서명</th>\n",
       "      <th>집행일시</th>\n",
       "      <th>집행시간</th>\n",
       "      <th>시간 정제</th>\n",
       "      <th>집행장소</th>\n",
       "      <th>집행주소</th>\n",
       "      <th>집행목적</th>\n",
       "      <th>결제방법</th>\n",
       "      <th>집행금액</th>\n",
       "    </tr>\n",
       "    <tr>\n",
       "      <th>No</th>\n",
       "      <th></th>\n",
       "      <th></th>\n",
       "      <th></th>\n",
       "      <th></th>\n",
       "      <th></th>\n",
       "      <th></th>\n",
       "      <th></th>\n",
       "      <th></th>\n",
       "      <th></th>\n",
       "    </tr>\n",
       "  </thead>\n",
       "  <tbody>\n",
       "    <tr>\n",
       "      <th>1</th>\n",
       "      <td>의회사무국</td>\n",
       "      <td>2014-01-01</td>\n",
       "      <td>18:48:38</td>\n",
       "      <td>0.783773</td>\n",
       "      <td>낙원아구찜</td>\n",
       "      <td>서울종로구낙원동</td>\n",
       "      <td>의정활동을 위한 접대성 경비 및 물품의 구입</td>\n",
       "      <td>카드</td>\n",
       "      <td>100000</td>\n",
       "    </tr>\n",
       "    <tr>\n",
       "      <th>2</th>\n",
       "      <td>의회사무국</td>\n",
       "      <td>2014-01-02</td>\n",
       "      <td>12:21:03</td>\n",
       "      <td>0.514618</td>\n",
       "      <td>양평해장국</td>\n",
       "      <td>서울마포구월드컵북로</td>\n",
       "      <td>의정활동을 위한 접대성 경비 및 물품의 구입</td>\n",
       "      <td>카드</td>\n",
       "      <td>28000</td>\n",
       "    </tr>\n",
       "    <tr>\n",
       "      <th>3</th>\n",
       "      <td>의회사무국</td>\n",
       "      <td>2014-01-03</td>\n",
       "      <td>12:28:00</td>\n",
       "      <td>0.519444</td>\n",
       "      <td>춘자대구탕</td>\n",
       "      <td>서울마포구서교동</td>\n",
       "      <td>의정활동을 위한 접대성 경비 및 물품의 구입</td>\n",
       "      <td>카드</td>\n",
       "      <td>217000</td>\n",
       "    </tr>\n",
       "    <tr>\n",
       "      <th>4</th>\n",
       "      <td>의회사무국</td>\n",
       "      <td>2014-01-04</td>\n",
       "      <td>12:48:24</td>\n",
       "      <td>0.533611</td>\n",
       "      <td>텐텐라이</td>\n",
       "      <td>서울마포구백범로1길12</td>\n",
       "      <td>의정활동을 위한 접대성 경비 및 물품의 구입</td>\n",
       "      <td>카드</td>\n",
       "      <td>57500</td>\n",
       "    </tr>\n",
       "    <tr>\n",
       "      <th>5</th>\n",
       "      <td>의회사무국</td>\n",
       "      <td>2014-01-04</td>\n",
       "      <td>18:18:26</td>\n",
       "      <td>0.762801</td>\n",
       "      <td>진도식당</td>\n",
       "      <td>서울마포구대흥동</td>\n",
       "      <td>의정활동을 위한 접대성 경비 및 물품의 구입</td>\n",
       "      <td>카드</td>\n",
       "      <td>144000</td>\n",
       "    </tr>\n",
       "  </tbody>\n",
       "</table>\n",
       "</div>"
      ],
      "text/plain": [
       "      부서명        집행일시      집행시간     시간 정제   집행장소          집행주소  \\\n",
       "No                                                               \n",
       "1   의회사무국  2014-01-01  18:48:38  0.783773  낙원아구찜      서울종로구낙원동   \n",
       "2   의회사무국  2014-01-02  12:21:03  0.514618  양평해장국    서울마포구월드컵북로   \n",
       "3   의회사무국  2014-01-03  12:28:00  0.519444  춘자대구탕      서울마포구서교동   \n",
       "4   의회사무국  2014-01-04  12:48:24  0.533611   텐텐라이  서울마포구백범로1길12   \n",
       "5   의회사무국  2014-01-04  18:18:26  0.762801   진도식당      서울마포구대흥동   \n",
       "\n",
       "                        집행목적 결제방법    집행금액  \n",
       "No                                         \n",
       "1   의정활동을 위한 접대성 경비 및 물품의 구입   카드  100000  \n",
       "2   의정활동을 위한 접대성 경비 및 물품의 구입   카드   28000  \n",
       "3   의정활동을 위한 접대성 경비 및 물품의 구입   카드  217000  \n",
       "4   의정활동을 위한 접대성 경비 및 물품의 구입   카드   57500  \n",
       "5   의정활동을 위한 접대성 경비 및 물품의 구입   카드  144000  "
      ]
     },
     "execution_count": 9,
     "metadata": {},
     "output_type": "execute_result"
    }
   ],
   "source": [
    "의장.head()"
   ]
  },
  {
   "cell_type": "code",
   "execution_count": 4,
   "metadata": {
    "collapsed": true
   },
   "outputs": [],
   "source": [
    "의장.집행일시 = pd.to_datetime(의장.집행일시)"
   ]
  },
  {
   "cell_type": "code",
   "execution_count": 5,
   "metadata": {
    "collapsed": true
   },
   "outputs": [],
   "source": [
    "의장 = 의장.set_index(의장.집행일시)"
   ]
  },
  {
   "cell_type": "code",
   "execution_count": 6,
   "metadata": {},
   "outputs": [
    {
     "data": {
      "text/html": [
       "<div>\n",
       "<style>\n",
       "    .dataframe thead tr:only-child th {\n",
       "        text-align: right;\n",
       "    }\n",
       "\n",
       "    .dataframe thead th {\n",
       "        text-align: left;\n",
       "    }\n",
       "\n",
       "    .dataframe tbody tr th {\n",
       "        vertical-align: top;\n",
       "    }\n",
       "</style>\n",
       "<table border=\"1\" class=\"dataframe\">\n",
       "  <thead>\n",
       "    <tr style=\"text-align: right;\">\n",
       "      <th></th>\n",
       "      <th>부서명</th>\n",
       "      <th>집행일시</th>\n",
       "      <th>집행시간</th>\n",
       "      <th>시간 정제</th>\n",
       "      <th>집행장소</th>\n",
       "      <th>집행주소</th>\n",
       "      <th>집행목적</th>\n",
       "      <th>결제방법</th>\n",
       "      <th>집행금액</th>\n",
       "    </tr>\n",
       "    <tr>\n",
       "      <th>집행일시</th>\n",
       "      <th></th>\n",
       "      <th></th>\n",
       "      <th></th>\n",
       "      <th></th>\n",
       "      <th></th>\n",
       "      <th></th>\n",
       "      <th></th>\n",
       "      <th></th>\n",
       "      <th></th>\n",
       "    </tr>\n",
       "  </thead>\n",
       "  <tbody>\n",
       "    <tr>\n",
       "      <th>2014-01-01</th>\n",
       "      <td>의회사무국</td>\n",
       "      <td>2014-01-01</td>\n",
       "      <td>18:48:38</td>\n",
       "      <td>0.783773</td>\n",
       "      <td>낙원아구찜</td>\n",
       "      <td>서울종로구낙원동</td>\n",
       "      <td>의정활동을 위한 접대성 경비 및 물품의 구입</td>\n",
       "      <td>카드</td>\n",
       "      <td>100000</td>\n",
       "    </tr>\n",
       "    <tr>\n",
       "      <th>2014-01-02</th>\n",
       "      <td>의회사무국</td>\n",
       "      <td>2014-01-02</td>\n",
       "      <td>12:21:03</td>\n",
       "      <td>0.514618</td>\n",
       "      <td>양평해장국</td>\n",
       "      <td>서울마포구월드컵북로</td>\n",
       "      <td>의정활동을 위한 접대성 경비 및 물품의 구입</td>\n",
       "      <td>카드</td>\n",
       "      <td>28000</td>\n",
       "    </tr>\n",
       "    <tr>\n",
       "      <th>2014-01-03</th>\n",
       "      <td>의회사무국</td>\n",
       "      <td>2014-01-03</td>\n",
       "      <td>12:28:00</td>\n",
       "      <td>0.519444</td>\n",
       "      <td>춘자대구탕</td>\n",
       "      <td>서울마포구서교동</td>\n",
       "      <td>의정활동을 위한 접대성 경비 및 물품의 구입</td>\n",
       "      <td>카드</td>\n",
       "      <td>217000</td>\n",
       "    </tr>\n",
       "    <tr>\n",
       "      <th>2014-01-04</th>\n",
       "      <td>의회사무국</td>\n",
       "      <td>2014-01-04</td>\n",
       "      <td>12:48:24</td>\n",
       "      <td>0.533611</td>\n",
       "      <td>텐텐라이</td>\n",
       "      <td>서울마포구백범로1길12</td>\n",
       "      <td>의정활동을 위한 접대성 경비 및 물품의 구입</td>\n",
       "      <td>카드</td>\n",
       "      <td>57500</td>\n",
       "    </tr>\n",
       "    <tr>\n",
       "      <th>2014-01-04</th>\n",
       "      <td>의회사무국</td>\n",
       "      <td>2014-01-04</td>\n",
       "      <td>18:18:26</td>\n",
       "      <td>0.762801</td>\n",
       "      <td>진도식당</td>\n",
       "      <td>서울마포구대흥동</td>\n",
       "      <td>의정활동을 위한 접대성 경비 및 물품의 구입</td>\n",
       "      <td>카드</td>\n",
       "      <td>144000</td>\n",
       "    </tr>\n",
       "  </tbody>\n",
       "</table>\n",
       "</div>"
      ],
      "text/plain": [
       "              부서명       집행일시      집행시간     시간 정제   집행장소          집행주소  \\\n",
       "집행일시                                                                    \n",
       "2014-01-01  의회사무국 2014-01-01  18:48:38  0.783773  낙원아구찜      서울종로구낙원동   \n",
       "2014-01-02  의회사무국 2014-01-02  12:21:03  0.514618  양평해장국    서울마포구월드컵북로   \n",
       "2014-01-03  의회사무국 2014-01-03  12:28:00  0.519444  춘자대구탕      서울마포구서교동   \n",
       "2014-01-04  의회사무국 2014-01-04  12:48:24  0.533611   텐텐라이  서울마포구백범로1길12   \n",
       "2014-01-04  의회사무국 2014-01-04  18:18:26  0.762801   진도식당      서울마포구대흥동   \n",
       "\n",
       "                                집행목적 결제방법    집행금액  \n",
       "집행일시                                               \n",
       "2014-01-01  의정활동을 위한 접대성 경비 및 물품의 구입   카드  100000  \n",
       "2014-01-02  의정활동을 위한 접대성 경비 및 물품의 구입   카드   28000  \n",
       "2014-01-03  의정활동을 위한 접대성 경비 및 물품의 구입   카드  217000  \n",
       "2014-01-04  의정활동을 위한 접대성 경비 및 물품의 구입   카드   57500  \n",
       "2014-01-04  의정활동을 위한 접대성 경비 및 물품의 구입   카드  144000  "
      ]
     },
     "execution_count": 6,
     "metadata": {},
     "output_type": "execute_result"
    }
   ],
   "source": [
    "의장.head()"
   ]
  },
  {
   "cell_type": "markdown",
   "metadata": {},
   "source": [
    "## 식당 분류/횟수"
   ]
  },
  {
   "cell_type": "code",
   "execution_count": 17,
   "metadata": {
    "collapsed": true
   },
   "outputs": [],
   "source": [
    "import time\n",
    "from selenium import webdriver\n",
    "from selenium.webdriver.support.ui import Select\n",
    "from selenium.webdriver.support.wait import WebDriverWait\n",
    "from selenium.webdriver.support import expected_conditions as EC\n",
    "from selenium.webdriver.common.by import By\n",
    "from bs4 import BeautifulSoup\n",
    "import pandas as pd\n",
    "import re"
   ]
  },
  {
   "cell_type": "code",
   "execution_count": 29,
   "metadata": {
    "scrolled": true
   },
   "outputs": [
    {
     "name": "stdout",
     "output_type": "stream",
     "text": [
      "가나손맛콩나물국밥 서울마포구서교동\n",
      "가마솥순대 서울마포구월드컵로164\n",
      "가원 서울마포구월드컵로65\n",
      "감나무집 서울마포구연남로25\n",
      "강강술래서초점 서울서초구강남대로51길1\n",
      "강강술래홍대점 서울마포구잔다리로6길\n",
      "강수사 서울서대문구연희로\n",
      "갯마을식당 서울송파구백제고분로9길6\n",
      "거북이집 서울서대문구연희맛로43070\n",
      "거제지심도 서울서초구서초대로49길5\n",
      "걸리부 서울서대문구연희맛로31\n",
      "경복궁서교점（주）덕 서울마포구월드컵북로37\n",
      "고기자랑정육식당 서울마포구월드컵로25길47\n",
      "고야 경기고양시덕양구행주산성로\n",
      "고창복의착한갈비（홍 서울마포구어울마당로\n",
      "고창풍천장어직판장 경기고양시덕양구봉산로308\n",
      "골목길 서울마포구독막로154-6\n",
      "공간 서울마포구월드컵북로48길41\n",
      "공화춘 인천중구차이나타운로43\n",
      "교동집 서울마포구동교동\n"
     ]
    },
    {
     "ename": "UnexpectedAlertPresentException",
     "evalue": "Alert Text: None\nMessage: unexpected alert open: {Alert text : Sorry, 주소를 확인해 주세요!!}\n  (Session info: chrome=65.0.3325.181)\n  (Driver info: chromedriver=2.37.544315 (730aa6a5fdba159ac9f4c1e8cbc59bf1b5ce12b7),platform=Windows NT 6.1.7601 SP1 x86_64)\n",
     "output_type": "error",
     "traceback": [
      "\u001b[1;31m---------------------------------------------------------------------------\u001b[0m",
      "\u001b[1;31mUnexpectedAlertPresentException\u001b[0m           Traceback (most recent call last)",
      "\u001b[1;32m<ipython-input-29-afb67abcdfb7>\u001b[0m in \u001b[0;36m<module>\u001b[1;34m()\u001b[0m\n\u001b[0;32m     11\u001b[0m     \u001b[0mdriver\u001b[0m\u001b[1;33m.\u001b[0m\u001b[0mfind_element_by_xpath\u001b[0m\u001b[1;33m(\u001b[0m\u001b[1;34m'/html/body/form/p/input[2]'\u001b[0m\u001b[1;33m)\u001b[0m\u001b[1;33m.\u001b[0m\u001b[0mclick\u001b[0m\u001b[1;33m(\u001b[0m\u001b[1;33m)\u001b[0m\u001b[1;33m\u001b[0m\u001b[0m\n\u001b[0;32m     12\u001b[0m     \u001b[0mtime\u001b[0m\u001b[1;33m.\u001b[0m\u001b[0msleep\u001b[0m\u001b[1;33m(\u001b[0m\u001b[1;36m2\u001b[0m\u001b[1;33m)\u001b[0m\u001b[1;33m\u001b[0m\u001b[0m\n\u001b[1;32m---> 13\u001b[1;33m     \u001b[0m위도경도\u001b[0m\u001b[1;33m.\u001b[0m\u001b[0mappend\u001b[0m\u001b[1;33m(\u001b[0m\u001b[0mdriver\u001b[0m\u001b[1;33m.\u001b[0m\u001b[0mfind_element_by_xpath\u001b[0m\u001b[1;33m(\u001b[0m\u001b[1;34m'//*[@id=\"map_canvas\"]/div[1]/div/div[1]/div[3]/div[2]/div[4]/div[2]/div[2]/div[1]/div'\u001b[0m\u001b[1;33m)\u001b[0m\u001b[1;33m.\u001b[0m\u001b[0mtext\u001b[0m\u001b[1;33m)\u001b[0m\u001b[1;33m\u001b[0m\u001b[0m\n\u001b[0m\u001b[0;32m     14\u001b[0m     \u001b[0mdriver\u001b[0m\u001b[1;33m.\u001b[0m\u001b[0mexecute_script\u001b[0m\u001b[1;33m(\u001b[0m\u001b[1;34m\"arguments[0].value = ''\"\u001b[0m\u001b[1;33m,\u001b[0m \u001b[0mdriver\u001b[0m\u001b[1;33m.\u001b[0m\u001b[0mfind_element_by_xpath\u001b[0m\u001b[1;33m(\u001b[0m\u001b[1;34m'/html/body/form/p/input[1]'\u001b[0m\u001b[1;33m)\u001b[0m\u001b[1;33m)\u001b[0m\u001b[1;33m\u001b[0m\u001b[0m\n\u001b[0;32m     15\u001b[0m     \u001b[0mprint\u001b[0m\u001b[1;33m(\u001b[0m\u001b[0muniv\u001b[0m\u001b[1;33m)\u001b[0m\u001b[1;33m\u001b[0m\u001b[0m\n",
      "\u001b[1;32m~\\Anaconda3\\lib\\site-packages\\selenium\\webdriver\\remote\\webdriver.py\u001b[0m in \u001b[0;36mfind_element_by_xpath\u001b[1;34m(self, xpath)\u001b[0m\n\u001b[0;32m    363\u001b[0m             \u001b[0mdriver\u001b[0m\u001b[1;33m.\u001b[0m\u001b[0mfind_element_by_xpath\u001b[0m\u001b[1;33m(\u001b[0m\u001b[1;34m'//div/td[1]'\u001b[0m\u001b[1;33m)\u001b[0m\u001b[1;33m\u001b[0m\u001b[0m\n\u001b[0;32m    364\u001b[0m         \"\"\"\n\u001b[1;32m--> 365\u001b[1;33m         \u001b[1;32mreturn\u001b[0m \u001b[0mself\u001b[0m\u001b[1;33m.\u001b[0m\u001b[0mfind_element\u001b[0m\u001b[1;33m(\u001b[0m\u001b[0mby\u001b[0m\u001b[1;33m=\u001b[0m\u001b[0mBy\u001b[0m\u001b[1;33m.\u001b[0m\u001b[0mXPATH\u001b[0m\u001b[1;33m,\u001b[0m \u001b[0mvalue\u001b[0m\u001b[1;33m=\u001b[0m\u001b[0mxpath\u001b[0m\u001b[1;33m)\u001b[0m\u001b[1;33m\u001b[0m\u001b[0m\n\u001b[0m\u001b[0;32m    366\u001b[0m \u001b[1;33m\u001b[0m\u001b[0m\n\u001b[0;32m    367\u001b[0m     \u001b[1;32mdef\u001b[0m \u001b[0mfind_elements_by_xpath\u001b[0m\u001b[1;33m(\u001b[0m\u001b[0mself\u001b[0m\u001b[1;33m,\u001b[0m \u001b[0mxpath\u001b[0m\u001b[1;33m)\u001b[0m\u001b[1;33m:\u001b[0m\u001b[1;33m\u001b[0m\u001b[0m\n",
      "\u001b[1;32m~\\Anaconda3\\lib\\site-packages\\selenium\\webdriver\\remote\\webdriver.py\u001b[0m in \u001b[0;36mfind_element\u001b[1;34m(self, by, value)\u001b[0m\n\u001b[0;32m    841\u001b[0m         return self.execute(Command.FIND_ELEMENT, {\n\u001b[0;32m    842\u001b[0m             \u001b[1;34m'using'\u001b[0m\u001b[1;33m:\u001b[0m \u001b[0mby\u001b[0m\u001b[1;33m,\u001b[0m\u001b[1;33m\u001b[0m\u001b[0m\n\u001b[1;32m--> 843\u001b[1;33m             'value': value})['value']\n\u001b[0m\u001b[0;32m    844\u001b[0m \u001b[1;33m\u001b[0m\u001b[0m\n\u001b[0;32m    845\u001b[0m     \u001b[1;32mdef\u001b[0m \u001b[0mfind_elements\u001b[0m\u001b[1;33m(\u001b[0m\u001b[0mself\u001b[0m\u001b[1;33m,\u001b[0m \u001b[0mby\u001b[0m\u001b[1;33m=\u001b[0m\u001b[0mBy\u001b[0m\u001b[1;33m.\u001b[0m\u001b[0mID\u001b[0m\u001b[1;33m,\u001b[0m \u001b[0mvalue\u001b[0m\u001b[1;33m=\u001b[0m\u001b[1;32mNone\u001b[0m\u001b[1;33m)\u001b[0m\u001b[1;33m:\u001b[0m\u001b[1;33m\u001b[0m\u001b[0m\n",
      "\u001b[1;32m~\\Anaconda3\\lib\\site-packages\\selenium\\webdriver\\remote\\webdriver.py\u001b[0m in \u001b[0;36mexecute\u001b[1;34m(self, driver_command, params)\u001b[0m\n\u001b[0;32m    306\u001b[0m         \u001b[0mresponse\u001b[0m \u001b[1;33m=\u001b[0m \u001b[0mself\u001b[0m\u001b[1;33m.\u001b[0m\u001b[0mcommand_executor\u001b[0m\u001b[1;33m.\u001b[0m\u001b[0mexecute\u001b[0m\u001b[1;33m(\u001b[0m\u001b[0mdriver_command\u001b[0m\u001b[1;33m,\u001b[0m \u001b[0mparams\u001b[0m\u001b[1;33m)\u001b[0m\u001b[1;33m\u001b[0m\u001b[0m\n\u001b[0;32m    307\u001b[0m         \u001b[1;32mif\u001b[0m \u001b[0mresponse\u001b[0m\u001b[1;33m:\u001b[0m\u001b[1;33m\u001b[0m\u001b[0m\n\u001b[1;32m--> 308\u001b[1;33m             \u001b[0mself\u001b[0m\u001b[1;33m.\u001b[0m\u001b[0merror_handler\u001b[0m\u001b[1;33m.\u001b[0m\u001b[0mcheck_response\u001b[0m\u001b[1;33m(\u001b[0m\u001b[0mresponse\u001b[0m\u001b[1;33m)\u001b[0m\u001b[1;33m\u001b[0m\u001b[0m\n\u001b[0m\u001b[0;32m    309\u001b[0m             response['value'] = self._unwrap_value(\n\u001b[0;32m    310\u001b[0m                 response.get('value', None))\n",
      "\u001b[1;32m~\\Anaconda3\\lib\\site-packages\\selenium\\webdriver\\remote\\errorhandler.py\u001b[0m in \u001b[0;36mcheck_response\u001b[1;34m(self, response)\u001b[0m\n\u001b[0;32m    192\u001b[0m         \u001b[1;32melif\u001b[0m \u001b[0mexception_class\u001b[0m \u001b[1;33m==\u001b[0m \u001b[0mUnexpectedAlertPresentException\u001b[0m \u001b[1;32mand\u001b[0m \u001b[1;34m'alert'\u001b[0m \u001b[1;32min\u001b[0m \u001b[0mvalue\u001b[0m\u001b[1;33m:\u001b[0m\u001b[1;33m\u001b[0m\u001b[0m\n\u001b[0;32m    193\u001b[0m             \u001b[1;32mraise\u001b[0m \u001b[0mexception_class\u001b[0m\u001b[1;33m(\u001b[0m\u001b[0mmessage\u001b[0m\u001b[1;33m,\u001b[0m \u001b[0mscreen\u001b[0m\u001b[1;33m,\u001b[0m \u001b[0mstacktrace\u001b[0m\u001b[1;33m,\u001b[0m \u001b[0mvalue\u001b[0m\u001b[1;33m[\u001b[0m\u001b[1;34m'alert'\u001b[0m\u001b[1;33m]\u001b[0m\u001b[1;33m.\u001b[0m\u001b[0mget\u001b[0m\u001b[1;33m(\u001b[0m\u001b[1;34m'text'\u001b[0m\u001b[1;33m)\u001b[0m\u001b[1;33m)\u001b[0m\u001b[1;33m\u001b[0m\u001b[0m\n\u001b[1;32m--> 194\u001b[1;33m         \u001b[1;32mraise\u001b[0m \u001b[0mexception_class\u001b[0m\u001b[1;33m(\u001b[0m\u001b[0mmessage\u001b[0m\u001b[1;33m,\u001b[0m \u001b[0mscreen\u001b[0m\u001b[1;33m,\u001b[0m \u001b[0mstacktrace\u001b[0m\u001b[1;33m)\u001b[0m\u001b[1;33m\u001b[0m\u001b[0m\n\u001b[0m\u001b[0;32m    195\u001b[0m \u001b[1;33m\u001b[0m\u001b[0m\n\u001b[0;32m    196\u001b[0m     \u001b[1;32mdef\u001b[0m \u001b[0m_value_or_default\u001b[0m\u001b[1;33m(\u001b[0m\u001b[0mself\u001b[0m\u001b[1;33m,\u001b[0m \u001b[0mobj\u001b[0m\u001b[1;33m,\u001b[0m \u001b[0mkey\u001b[0m\u001b[1;33m,\u001b[0m \u001b[0mdefault\u001b[0m\u001b[1;33m)\u001b[0m\u001b[1;33m:\u001b[0m\u001b[1;33m\u001b[0m\u001b[0m\n",
      "\u001b[1;31mUnexpectedAlertPresentException\u001b[0m: Alert Text: None\nMessage: unexpected alert open: {Alert text : Sorry, 주소를 확인해 주세요!!}\n  (Session info: chrome=65.0.3325.181)\n  (Driver info: chromedriver=2.37.544315 (730aa6a5fdba159ac9f4c1e8cbc59bf1b5ce12b7),platform=Windows NT 6.1.7601 SP1 x86_64)\n"
     ]
    }
   ],
   "source": [
    "data1 = 의장.집행장소 +' '+의장.집행주소\n",
    "data1 = data1.reset_index()\n",
    "위도경도 = list()\n",
    "대학교리스트 = list(set(data1[0]))\n",
    "대학교리스트.sort()\n",
    "driver = webdriver.Chrome(r'C:\\chromedriver.exe')\n",
    "driver.get('http://www.iegate.net/maps/rgeogoogle.php')\n",
    "for count,univ in enumerate(대학교리스트):\n",
    "    try:\n",
    "        driver.find_element_by_xpath('/html/body/form/p/input[1]').send_keys(univ)\n",
    "        time.sleep(2)\n",
    "        driver.find_element_by_xpath('/html/body/form/p/input[2]').click()\n",
    "        time.sleep(2)\n",
    "        위도경도.append(driver.find_element_by_xpath('//*[@id=\"map_canvas\"]/div[1]/div/div[1]/div[3]/div[2]/div[4]/div[2]/div[2]/div[1]/div').text)\n",
    "        driver.execute_script(\"arguments[0].value = ''\", driver.find_element_by_xpath('/html/body/form/p/input[1]'))\n",
    "    except:\n",
    "        print(univ)\n",
    "    \n",
    "driver.quit()"
   ]
  },
  {
   "cell_type": "code",
   "execution_count": null,
   "metadata": {
    "collapsed": true
   },
   "outputs": [],
   "source": []
  }
 ],
 "metadata": {
  "kernelspec": {
   "display_name": "Python 3",
   "language": "python",
   "name": "python3"
  },
  "language_info": {
   "codemirror_mode": {
    "name": "ipython",
    "version": 3
   },
   "file_extension": ".py",
   "mimetype": "text/x-python",
   "name": "python",
   "nbconvert_exporter": "python",
   "pygments_lexer": "ipython3",
   "version": "3.6.3"
  }
 },
 "nbformat": 4,
 "nbformat_minor": 2
}
