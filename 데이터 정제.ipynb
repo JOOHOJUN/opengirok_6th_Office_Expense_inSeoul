{
 "cells": [
  {
   "cell_type": "code",
   "execution_count": 1,
   "metadata": {
    "collapsed": true
   },
   "outputs": [],
   "source": [
    "import pandas as pd\n",
    "import numpy as np\n",
    "from datetime import datetime"
   ]
  },
  {
   "cell_type": "code",
   "execution_count": 162,
   "metadata": {
    "collapsed": true
   },
   "outputs": [],
   "source": [
    "칼럼 =['연번','자치구','담당','구분','집행일시','시분값', \\\n",
    "       '집행장소','집행주소','결재방법','집행금액','집행목적/집행내역/내용','대상인원','50만원이상 결재시 증빙서류','비고']\n",
    "기본경로 = r'C:\\Users\\user\\1코드들\\2018년_정공센_알권리감시단_업무추진비_코드\\Files\\공개자료_업데이트\\\\'\n",
    "파일위치경로 = r'C:/Users/user/Desktop/구청별 업무추진비(엑셀)/'\n",
    "구청목록 = [ \n",
    "    '종로구','중구','용산구','성동구','광진구','동대문구','중랑구','성북구','강북구','도봉구','노원구',\n",
    "    '은평구','서대문구','마포구','양천구','강서구','구로구','금천구','영등포구','동작구','관악구','서초구',\n",
    "    '강남구','송파구','강동구','서울특별시'\n",
    "            ]   #26개\n",
    "요일 = {'Monday':'월', 'Tuesday':'화', 'Wednesday':'수', 'Thursday':'목', 'Friday':'금', 'Saturday':'토', 'Sunday':'일'}"
   ]
  },
  {
   "cell_type": "markdown",
   "metadata": {
    "collapsed": true
   },
   "source": [
    "## 날짜정제"
   ]
  },
  {
   "cell_type": "code",
   "execution_count": 163,
   "metadata": {
    "collapsed": true
   },
   "outputs": [],
   "source": [
    "import re"
   ]
  },
  {
   "cell_type": "code",
   "execution_count": 174,
   "metadata": {},
   "outputs": [
    {
     "name": "stdout",
     "output_type": "stream",
     "text": [
      "파일이 없습니다:서울특별시\n"
     ]
    }
   ],
   "source": [
    "구청별=dict()\n",
    "\n",
    "for 구청이름 in 구청목록:\n",
    "    try:\n",
    "        구청별[구청이름]=pd.read_excel(파일위치경로+'/원본/'+구청이름+'.xlsx',index_col='연번')\n",
    "    except FileNotFoundError:\n",
    "        print('파일이 없습니다:'+구청이름)\n",
    "    except :\n",
    "        print(구청이름)"
   ]
  },
  {
   "cell_type": "code",
   "execution_count": 175,
   "metadata": {
    "collapsed": true
   },
   "outputs": [],
   "source": [
    "def change_date_format(x):\n",
    "    try:\n",
    "        if len(x)>=10 or x=='-':\n",
    "            return x.replace('.','-')\n",
    "        if len(x)==8:\n",
    "            imp_str = x[0:5]+'0'+x[5:7]+'0'+x[7]\n",
    "            return imp_str.replace('.','-')\n",
    "        앞 =re.compile('20[0-9][0-9].[1-9].[0-9][0-9]')\n",
    "        if 앞.findall(x):\n",
    "            imp_str =앞.findall(x)[0]\n",
    "            imp_str = imp_str[0:5]+'0'+imp_str[5:]\n",
    "            return imp_str.replace('.','-')\n",
    "        else:\n",
    "            뒤 =re.compile('20[0-9][0-9].[0-9][1-9].[1-9]')\n",
    "            imp_str = 뒤.findall(x)[0]\n",
    "            imp_str = imp_str[0:8]+'0'+imp_str[8]\n",
    "            return imp_srt.replace('.','-')\n",
    "    except:\n",
    "        print(x)"
   ]
  },
  {
   "cell_type": "code",
   "execution_count": 176,
   "metadata": {},
   "outputs": [
    {
     "name": "stdout",
     "output_type": "stream",
     "text": [
      "파일이 없습니다:서울특별시\n"
     ]
    }
   ],
   "source": [
    "for 구청이름 in 구청목록:\n",
    "    try:\n",
    "        구청별[구청이름].집행일시 = 구청별[구청이름].집행일시.apply(lambda x: change_date_format(str(x)))\n",
    "        구청별[구청이름].시분값 = 구청별[구청이름].시분값.astype(str)\n",
    "        #구청별[구청이름].집행일시 = pd.to_datetime(구청별[구청이름].집행일시)\n",
    "    except KeyError:\n",
    "        print('파일이 없습니다:'+구청이름)\n",
    "    except :\n",
    "        print(구청별[구청이름].집행일시)"
   ]
  },
  {
   "cell_type": "markdown",
   "metadata": {},
   "source": [
    "## 요일입력"
   ]
  },
  {
   "cell_type": "code",
   "execution_count": 167,
   "metadata": {},
   "outputs": [],
   "source": [
    "import datetime\n",
    "요일사전 = {0:'월', 1:'화', 2:'수', 3:'목', 4:'금', 5:'토', 6:'일'}"
   ]
  },
  {
   "cell_type": "code",
   "execution_count": 177,
   "metadata": {},
   "outputs": [
    {
     "data": {
      "text/html": [
       "<div>\n",
       "<style>\n",
       "    .dataframe thead tr:only-child th {\n",
       "        text-align: right;\n",
       "    }\n",
       "\n",
       "    .dataframe thead th {\n",
       "        text-align: left;\n",
       "    }\n",
       "\n",
       "    .dataframe tbody tr th {\n",
       "        vertical-align: top;\n",
       "    }\n",
       "</style>\n",
       "<table border=\"1\" class=\"dataframe\">\n",
       "  <thead>\n",
       "    <tr style=\"text-align: right;\">\n",
       "      <th></th>\n",
       "      <th>자치구</th>\n",
       "      <th>담당</th>\n",
       "      <th>구분</th>\n",
       "      <th>집행일시</th>\n",
       "      <th>시분값</th>\n",
       "      <th>집행장소</th>\n",
       "      <th>집행주소</th>\n",
       "      <th>결재방법</th>\n",
       "      <th>집행금액</th>\n",
       "      <th>집행목적/집행내역/내용</th>\n",
       "      <th>대상인원</th>\n",
       "      <th>50만원이상 결재시 증빙서류</th>\n",
       "      <th>비고</th>\n",
       "    </tr>\n",
       "    <tr>\n",
       "      <th>연번</th>\n",
       "      <th></th>\n",
       "      <th></th>\n",
       "      <th></th>\n",
       "      <th></th>\n",
       "      <th></th>\n",
       "      <th></th>\n",
       "      <th></th>\n",
       "      <th></th>\n",
       "      <th></th>\n",
       "      <th></th>\n",
       "      <th></th>\n",
       "      <th></th>\n",
       "      <th></th>\n",
       "    </tr>\n",
       "  </thead>\n",
       "  <tbody>\n",
       "    <tr>\n",
       "      <th>1</th>\n",
       "      <td>종로구</td>\n",
       "      <td>이상수</td>\n",
       "      <td>의장</td>\n",
       "      <td>2014-04-01 00:00:00</td>\n",
       "      <td>12:41:40</td>\n",
       "      <td>（주）더부페종로점</td>\n",
       "      <td>서울 종로구 종로1가</td>\n",
       "      <td>카드</td>\n",
       "      <td>59400</td>\n",
       "      <td>의정활동 관련 간담회</td>\n",
       "      <td>-</td>\n",
       "      <td>-</td>\n",
       "      <td>-</td>\n",
       "    </tr>\n",
       "    <tr>\n",
       "      <th>2</th>\n",
       "      <td>종로구</td>\n",
       "      <td>이상수</td>\n",
       "      <td>의장</td>\n",
       "      <td>2014-04-02 00:00:00</td>\n",
       "      <td>10:49:42</td>\n",
       "      <td>종로바베큐보쌈</td>\n",
       "      <td>서울 종로구 효제동</td>\n",
       "      <td>카드</td>\n",
       "      <td>200000</td>\n",
       "      <td>의정활동 관련 간담회</td>\n",
       "      <td>-</td>\n",
       "      <td>-</td>\n",
       "      <td>-</td>\n",
       "    </tr>\n",
       "    <tr>\n",
       "      <th>3</th>\n",
       "      <td>종로구</td>\n",
       "      <td>이상수</td>\n",
       "      <td>의장</td>\n",
       "      <td>2014-04-02 00:00:00</td>\n",
       "      <td>12:24:32</td>\n",
       "      <td>밥줘</td>\n",
       "      <td>서울 종로구 종로3길 30</td>\n",
       "      <td>카드</td>\n",
       "      <td>77000</td>\n",
       "      <td>의정활동 관련 간담회</td>\n",
       "      <td>-</td>\n",
       "      <td>-</td>\n",
       "      <td>-</td>\n",
       "    </tr>\n",
       "    <tr>\n",
       "      <th>4</th>\n",
       "      <td>종로구</td>\n",
       "      <td>이상수</td>\n",
       "      <td>의장</td>\n",
       "      <td>2014-04-03 00:00:00</td>\n",
       "      <td>12:13:38</td>\n",
       "      <td>종로해초세상</td>\n",
       "      <td>서울 종로구 수송동</td>\n",
       "      <td>카드</td>\n",
       "      <td>22000</td>\n",
       "      <td>의정활동 관련 간담회</td>\n",
       "      <td>-</td>\n",
       "      <td>-</td>\n",
       "      <td>-</td>\n",
       "    </tr>\n",
       "    <tr>\n",
       "      <th>5</th>\n",
       "      <td>종로구</td>\n",
       "      <td>이상수</td>\n",
       "      <td>의장</td>\n",
       "      <td>2014-04-05 00:00:00</td>\n",
       "      <td>12:41:22</td>\n",
       "      <td>옛맛식당</td>\n",
       "      <td>서울 종로구 지봉로17길</td>\n",
       "      <td>카드</td>\n",
       "      <td>120000</td>\n",
       "      <td>의정활동 관련 간담회</td>\n",
       "      <td>-</td>\n",
       "      <td>-</td>\n",
       "      <td>-</td>\n",
       "    </tr>\n",
       "  </tbody>\n",
       "</table>\n",
       "</div>"
      ],
      "text/plain": [
       "    자치구   담당  구분                 집행일시       시분값       집행장소            집행주소  \\\n",
       "연번                                                                           \n",
       "1   종로구  이상수  의장  2014-04-01 00:00:00  12:41:40  （주）더부페종로점     서울 종로구 종로1가   \n",
       "2   종로구  이상수  의장  2014-04-02 00:00:00  10:49:42    종로바베큐보쌈      서울 종로구 효제동   \n",
       "3   종로구  이상수  의장  2014-04-02 00:00:00  12:24:32         밥줘  서울 종로구 종로3길 30   \n",
       "4   종로구  이상수  의장  2014-04-03 00:00:00  12:13:38     종로해초세상      서울 종로구 수송동   \n",
       "5   종로구  이상수  의장  2014-04-05 00:00:00  12:41:22       옛맛식당   서울 종로구 지봉로17길   \n",
       "\n",
       "   결재방법    집행금액 집행목적/집행내역/내용 대상인원 50만원이상 결재시 증빙서류 비고  \n",
       "연번                                                    \n",
       "1    카드   59400  의정활동 관련 간담회    -               -  -  \n",
       "2    카드  200000  의정활동 관련 간담회    -               -  -  \n",
       "3    카드   77000  의정활동 관련 간담회    -               -  -  \n",
       "4    카드   22000  의정활동 관련 간담회    -               -  -  \n",
       "5    카드  120000  의정활동 관련 간담회    -               -  -  "
      ]
     },
     "execution_count": 177,
     "metadata": {},
     "output_type": "execute_result"
    }
   ],
   "source": [
    "구청별['종로구'].head()"
   ]
  },
  {
   "cell_type": "code",
   "execution_count": 178,
   "metadata": {},
   "outputs": [
    {
     "name": "stdout",
     "output_type": "stream",
     "text": [
      "집행일시를 변환하지 못합니다.동작구\n",
      "목록에 없습니다:서울특별시\n"
     ]
    }
   ],
   "source": [
    "for 구청이름 in 구청목록:\n",
    "    try:\n",
    "        임시_구청 = 구청별[구청이름]\n",
    "    except KeyError:\n",
    "        print(\"목록에 없습니다:\"+구청이름)\n",
    "        continue\n",
    "    try:\n",
    "        임시_구청_집행일시 = pd.to_datetime(임시_구청.집행일시)\n",
    "    except:    \n",
    "        print(\"집행일시를 변환하지 못합니다.\"+구청이름)\n",
    "        임시_구청_집행일시 = pd.to_datetime(임시_구청[임시_구청.집행일시 != '-'].집행일시)\n",
    "        임시_구청['요일'] = 임시_구청_집행일시.apply(lambda x : 요일사전[x.weekday()])\n",
    "        임시_구청.요일 = 임시_구청.요일.fillna('-')\n",
    "        구청별_[구청이름] = 임시_구청\n",
    "        구청별[구청이름].to_excel(파일위치경로+구청이름+'(정제).xlsx')\n",
    "        continue\n",
    "    임시_구청['요일'] = 임시_구청_집행일시.apply(lambda x : 요일사전[x.weekday()])\n",
    "    구청별[구청이름] = 임시_구청\n",
    "    구청별[구청이름].to_excel(파일위치경로+구청이름+'(정제).xlsx')"
   ]
  },
  {
   "cell_type": "code",
   "execution_count": null,
   "metadata": {
    "collapsed": true
   },
   "outputs": [],
   "source": []
  },
  {
   "cell_type": "code",
   "execution_count": null,
   "metadata": {
    "collapsed": true
   },
   "outputs": [],
   "source": []
  }
 ],
 "metadata": {
  "kernelspec": {
   "display_name": "Python 3",
   "language": "python",
   "name": "python3"
  },
  "language_info": {
   "codemirror_mode": {
    "name": "ipython",
    "version": 3
   },
   "file_extension": ".py",
   "mimetype": "text/x-python",
   "name": "python",
   "nbconvert_exporter": "python",
   "pygments_lexer": "ipython3",
   "version": "3.6.3"
  }
 },
 "nbformat": 4,
 "nbformat_minor": 2
}
